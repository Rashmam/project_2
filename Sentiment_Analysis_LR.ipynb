{
 "cells": [
  {
   "cell_type": "code",
   "execution_count": 1,
   "metadata": {},
   "outputs": [],
   "source": [
    "import pandas as pd\n",
    "import numpy as np\n",
    "import matplotlib.pyplot as plt\n",
    "import seaborn as sns\n",
    "from sklearn.feature_extraction.text import CountVectorizer\n",
    "from sklearn.feature_extraction.text import TfidfVectorizer\n",
    "from sklearn.linear_model import LogisticRegression\n",
    "from sklearn.model_selection import train_test_split\n",
    "from sklearn.dummy import DummyClassifier\n",
    "from string import punctuation\n",
    "from sklearn import svm\n",
    "from nltk.corpus import stopwords\n",
    "from nltk.stem import WordNetLemmatizer\n",
    "import nltk\n",
    "from nltk import ngrams\n",
    "from itertools import chain\n",
    "from wordcloud import WordCloud"
   ]
  },
  {
   "cell_type": "code",
   "execution_count": 2,
   "metadata": {},
   "outputs": [
    {
     "data": {
      "text/html": [
       "<div>\n",
       "<style scoped>\n",
       "    .dataframe tbody tr th:only-of-type {\n",
       "        vertical-align: middle;\n",
       "    }\n",
       "\n",
       "    .dataframe tbody tr th {\n",
       "        vertical-align: top;\n",
       "    }\n",
       "\n",
       "    .dataframe thead th {\n",
       "        text-align: right;\n",
       "    }\n",
       "</style>\n",
       "<table border=\"1\" class=\"dataframe\">\n",
       "  <thead>\n",
       "    <tr style=\"text-align: right;\">\n",
       "      <th></th>\n",
       "      <th>Id</th>\n",
       "      <th>ProductId</th>\n",
       "      <th>UserId</th>\n",
       "      <th>ProfileName</th>\n",
       "      <th>HelpfulnessNumerator</th>\n",
       "      <th>HelpfulnessDenominator</th>\n",
       "      <th>Score</th>\n",
       "      <th>Time</th>\n",
       "      <th>Summary</th>\n",
       "      <th>Text</th>\n",
       "      <th>Helpful %</th>\n",
       "      <th>% Upvote</th>\n",
       "    </tr>\n",
       "  </thead>\n",
       "  <tbody>\n",
       "    <tr>\n",
       "      <th>0</th>\n",
       "      <td>1</td>\n",
       "      <td>B001E4KFG0</td>\n",
       "      <td>A3SGXH7AUHU8GW</td>\n",
       "      <td>delmartian</td>\n",
       "      <td>1</td>\n",
       "      <td>1</td>\n",
       "      <td>5</td>\n",
       "      <td>1303862400</td>\n",
       "      <td>Good Quality Dog Food</td>\n",
       "      <td>I have bought several of the Vitality canned d...</td>\n",
       "      <td>1.0</td>\n",
       "      <td>80-100%</td>\n",
       "    </tr>\n",
       "    <tr>\n",
       "      <th>1</th>\n",
       "      <td>2</td>\n",
       "      <td>B00813GRG4</td>\n",
       "      <td>A1D87F6ZCVE5NK</td>\n",
       "      <td>dll pa</td>\n",
       "      <td>0</td>\n",
       "      <td>0</td>\n",
       "      <td>1</td>\n",
       "      <td>1346976000</td>\n",
       "      <td>Not as Advertised</td>\n",
       "      <td>Product arrived labeled as Jumbo Salted Peanut...</td>\n",
       "      <td>-1.0</td>\n",
       "      <td>Empty</td>\n",
       "    </tr>\n",
       "    <tr>\n",
       "      <th>2</th>\n",
       "      <td>3</td>\n",
       "      <td>B000LQOCH0</td>\n",
       "      <td>ABXLMWJIXXAIN</td>\n",
       "      <td>Natalia Corres \"Natalia Corres\"</td>\n",
       "      <td>1</td>\n",
       "      <td>1</td>\n",
       "      <td>4</td>\n",
       "      <td>1219017600</td>\n",
       "      <td>\"Delight\" says it all</td>\n",
       "      <td>This is a confection that has been around a fe...</td>\n",
       "      <td>1.0</td>\n",
       "      <td>80-100%</td>\n",
       "    </tr>\n",
       "    <tr>\n",
       "      <th>3</th>\n",
       "      <td>4</td>\n",
       "      <td>B000UA0QIQ</td>\n",
       "      <td>A395BORC6FGVXV</td>\n",
       "      <td>Karl</td>\n",
       "      <td>3</td>\n",
       "      <td>3</td>\n",
       "      <td>2</td>\n",
       "      <td>1307923200</td>\n",
       "      <td>Cough Medicine</td>\n",
       "      <td>If you are looking for the secret ingredient i...</td>\n",
       "      <td>1.0</td>\n",
       "      <td>80-100%</td>\n",
       "    </tr>\n",
       "    <tr>\n",
       "      <th>4</th>\n",
       "      <td>5</td>\n",
       "      <td>B006K2ZZ7K</td>\n",
       "      <td>A1UQRSCLF8GW1T</td>\n",
       "      <td>Michael D. Bigham \"M. Wassir\"</td>\n",
       "      <td>0</td>\n",
       "      <td>0</td>\n",
       "      <td>5</td>\n",
       "      <td>1350777600</td>\n",
       "      <td>Great taffy</td>\n",
       "      <td>Great taffy at a great price.  There was a wid...</td>\n",
       "      <td>-1.0</td>\n",
       "      <td>Empty</td>\n",
       "    </tr>\n",
       "  </tbody>\n",
       "</table>\n",
       "</div>"
      ],
      "text/plain": [
       "   Id   ProductId          UserId                      ProfileName  \\\n",
       "0   1  B001E4KFG0  A3SGXH7AUHU8GW                       delmartian   \n",
       "1   2  B00813GRG4  A1D87F6ZCVE5NK                           dll pa   \n",
       "2   3  B000LQOCH0   ABXLMWJIXXAIN  Natalia Corres \"Natalia Corres\"   \n",
       "3   4  B000UA0QIQ  A395BORC6FGVXV                             Karl   \n",
       "4   5  B006K2ZZ7K  A1UQRSCLF8GW1T    Michael D. Bigham \"M. Wassir\"   \n",
       "\n",
       "   HelpfulnessNumerator  HelpfulnessDenominator  Score        Time  \\\n",
       "0                     1                       1      5  1303862400   \n",
       "1                     0                       0      1  1346976000   \n",
       "2                     1                       1      4  1219017600   \n",
       "3                     3                       3      2  1307923200   \n",
       "4                     0                       0      5  1350777600   \n",
       "\n",
       "                 Summary                                               Text  \\\n",
       "0  Good Quality Dog Food  I have bought several of the Vitality canned d...   \n",
       "1      Not as Advertised  Product arrived labeled as Jumbo Salted Peanut...   \n",
       "2  \"Delight\" says it all  This is a confection that has been around a fe...   \n",
       "3         Cough Medicine  If you are looking for the secret ingredient i...   \n",
       "4            Great taffy  Great taffy at a great price.  There was a wid...   \n",
       "\n",
       "   Helpful % % Upvote  \n",
       "0        1.0  80-100%  \n",
       "1       -1.0    Empty  \n",
       "2        1.0  80-100%  \n",
       "3        1.0  80-100%  \n",
       "4       -1.0    Empty  "
      ]
     },
     "execution_count": 2,
     "metadata": {},
     "output_type": "execute_result"
    }
   ],
   "source": [
    "odf = pd.read_csv('Reviews.csv')\n",
    "odf['Helpful %'] = np.where(odf['HelpfulnessDenominator'] > 0, odf['HelpfulnessNumerator'] / odf['HelpfulnessDenominator'], -1)\n",
    "odf['% Upvote'] = pd.cut(odf['Helpful %'], bins = [-1, 0, 0.2, 0.4, 0.6, 0.8, 1.0], labels = ['Empty', '0-20%', '20-40%', '40-60%', '60-80%', '80-100%'], include_lowest = True)\n",
    "odf.head()"
   ]
  },
  {
   "cell_type": "code",
   "execution_count": 3,
   "metadata": {},
   "outputs": [
    {
     "data": {
      "text/plain": [
       "<Figure size 1080x720 with 0 Axes>"
      ]
     },
     "metadata": {},
     "output_type": "display_data"
    }
   ],
   "source": [
    "df_s = odf.groupby(['Score', '% Upvote']).agg({'Id': 'count'})\n",
    "df_s = df_s.unstack()\n",
    "df_s.columns = df_s.columns.get_level_values(1)\n",
    "fig = plt.figure(figsize=(15,10))\n",
    "\n"
   ]
  },
  {
   "cell_type": "code",
   "execution_count": 4,
   "metadata": {},
   "outputs": [
    {
     "data": {
      "text/plain": [
       "Text(0.5, 1.0, 'How helpful users find among user scores')"
      ]
     },
     "execution_count": 4,
     "metadata": {},
     "output_type": "execute_result"
    },
    {
     "data": {
      "image/png": "[encoded data removed]",
      "text/plain": [
       "<Figure size 432x288 with 2 Axes>"
      ]
     },
     "metadata": {
      "needs_background": "light"
     },
     "output_type": "display_data"
    }
   ],
   "source": [
    "sns.heatmap(df_s[df_s.columns[::-1]].T, cmap = 'YlGnBu', linewidths=.5, annot = True, fmt = 'd', cbar_kws={'label': '# reviews'})\n",
    "plt.yticks(rotation=0)\n",
    "plt.title('How helpful users find among user scores')"
   ]
  },
  {
   "cell_type": "code",
   "execution_count": 5,
   "metadata": {},
   "outputs": [],
   "source": [
    "df = odf[odf['Score'] != 3]\n",
    "X = df['Text']\n",
    "y_dict = {1:0, 2:0, 4:1, 5:1}\n",
    "y = df['Score'].map(y_dict)"
   ]
  },
  {
   "cell_type": "code",
   "execution_count": 6,
   "metadata": {},
   "outputs": [
    {
     "name": "stdout",
     "output_type": "stream",
     "text": [
      "# features: 114969\n",
      "# train records: 394360\n",
      "# test records: 131454\n"
     ]
    },
    {
     "name": "stderr",
     "output_type": "stream",
     "text": [
      "C:\\Users\\Admin\\Anaconda3\\lib\\site-packages\\sklearn\\linear_model\\logistic.py:433: FutureWarning: Default solver will be changed to 'lbfgs' in 0.22. Specify a solver to silence this warning.\n",
      "  FutureWarning)\n",
      "C:\\Users\\Admin\\Anaconda3\\lib\\site-packages\\sklearn\\svm\\base.py:922: ConvergenceWarning: Liblinear failed to converge, increase the number of iterations.\n",
      "  \"the number of iterations.\", ConvergenceWarning)\n"
     ]
    },
    {
     "name": "stdout",
     "output_type": "stream",
     "text": [
      "Model Accuracy: 0.9387238121320005\n",
      "\n",
      "-Top 20 positive-\n",
      "Word  Coefficient\n",
      "   pleasantly     3.328580\n",
      "emeraldforest     3.199299\n",
      "      chedder     3.020121\n",
      "      easiest     2.562417\n",
      "      solving     2.453120\n",
      "      blowout     2.444333\n",
      "     heartier     2.372096\n",
      "    addicting     2.370796\n",
      "   unwrapping     2.298308\n",
      "        herrs     2.296201\n",
      "     drawback     2.292005\n",
      "       hooked     2.290150\n",
      "       skewed     2.284077\n",
      "       hahaha     2.261967\n",
      "     downside     2.249761\n",
      "   correction     2.238011\n",
      "        whisk     2.193656\n",
      "       ration     2.188827\n",
      "       bertie     2.187198\n",
      "   dishwasher     2.168781\n",
      "\n",
      "-Top 20 negative-\n",
      "Word  Coefficient\n",
      "   unfinished    -2.465662\n",
      "     tastless    -2.491349\n",
      "      weakest    -2.598279\n",
      "    overrated    -2.608597\n",
      "    cancelled    -2.692528\n",
      "  unappealing    -2.730268\n",
      "      furious    -2.741859\n",
      "   oversalted    -2.752695\n",
      "    deceptive    -2.821880\n",
      "disappointing    -2.822388\n",
      "  undrinkable    -2.825841\n",
      "  embarrassed    -2.828442\n",
      "    redeeming    -2.872401\n",
      "        worst    -2.891674\n",
      "dissapointing    -2.917526\n",
      "          ick    -2.947915\n",
      "        budda    -2.959324\n",
      "        280mg    -2.979308\n",
      "      3095826    -3.031588\n",
      " unacceptable    -3.291204\n"
     ]
    }
   ],
   "source": [
    "c = CountVectorizer(stop_words = 'english')\n",
    "\n",
    "def text_fit(X, y, model,clf_model,coef_show=1):\n",
    "    \n",
    "    X_c = model.fit_transform(X)\n",
    "    print('# features: {}'.format(X_c.shape[1]))\n",
    "    X_train, X_test, y_train, y_test = train_test_split(X_c, y, random_state=0)\n",
    "    print('# train records: {}'.format(X_train.shape[0]))\n",
    "    print('# test records: {}'.format(X_test.shape[0]))\n",
    "    clf = clf_model.fit(X_train, y_train)\n",
    "    acc = clf.score(X_test, y_test)\n",
    "    print ('Model Accuracy: {}'.format(acc))\n",
    "    \n",
    "    if coef_show == 1: \n",
    "        w = model.get_feature_names()\n",
    "        coef = clf.coef_.tolist()[0]\n",
    "        coeff_df = pd.DataFrame({'Word' : w, 'Coefficient' : coef})\n",
    "        coeff_df = coeff_df.sort_values(['Coefficient', 'Word'], ascending=[0, 1])\n",
    "        print('')\n",
    "        print('-Top 20 positive-')\n",
    "        print(coeff_df.head(20).to_string(index=False))\n",
    "        print('')\n",
    "        print('-Top 20 negative-')        \n",
    "        print(coeff_df.tail(20).to_string(index=False))\n",
    "    \n",
    "    \n",
    "text_fit(X, y, c, LogisticRegression())"
   ]
  },
  {
   "cell_type": "code",
   "execution_count": 7,
   "metadata": {},
   "outputs": [
    {
     "name": "stdout",
     "output_type": "stream",
     "text": [
      "# features: 114969\n",
      "# train records: 394360\n",
      "# test records: 131454\n",
      "Model Accuracy: 0.7355652928020449\n"
     ]
    }
   ],
   "source": [
    "text_fit(X, y, c, DummyClassifier(),0)"
   ]
  },
  {
   "cell_type": "code",
   "execution_count": 8,
   "metadata": {},
   "outputs": [
    {
     "name": "stdout",
     "output_type": "stream",
     "text": [
      "# features: 114969\n",
      "# train records: 394360\n",
      "# test records: 131454\n",
      "Model Accuracy: 0.9346767690598993\n",
      "\n",
      "-Top 20 positive-\n",
      "Word  Coefficient\n",
      "     great    13.722120\n",
      " delicious    12.147898\n",
      "      best    12.014930\n",
      "   perfect    10.605235\n",
      " excellent     9.860647\n",
      "     loves     9.581166\n",
      "    highly     9.036922\n",
      "      love     8.363467\n",
      " wonderful     7.966267\n",
      "   amazing     7.796380\n",
      "   awesome     7.631793\n",
      "      good     7.339033\n",
      "pleasantly     7.247853\n",
      "      nice     7.190181\n",
      "    hooked     7.020324\n",
      "     yummy     6.956705\n",
      "  favorite     6.941073\n",
      "   pleased     6.929279\n",
      "    smooth     6.883905\n",
      " fantastic     6.728033\n",
      "\n",
      "-Top 20 negative-\n",
      "Word  Coefficient\n",
      "         waste    -5.624240\n",
      "          poor    -5.719865\n",
      "   undrinkable    -5.724258\n",
      "          yuck    -6.012936\n",
      "         stale    -6.151746\n",
      "         worse    -6.277542\n",
      "         bland    -6.319814\n",
      "    disgusting    -6.552199\n",
      "          weak    -6.558914\n",
      "        return    -6.686735\n",
      "         threw    -6.731252\n",
      "     tasteless    -6.837401\n",
      " unfortunately    -7.436263\n",
      "      horrible    -7.790221\n",
      "         awful    -8.145043\n",
      "disappointment    -8.311602\n",
      "  disappointed    -8.492972\n",
      "      terrible    -9.261797\n",
      " disappointing   -10.115587\n",
      "         worst   -11.709655\n"
     ]
    }
   ],
   "source": [
    "tfidf = TfidfVectorizer(stop_words = 'english')\n",
    "text_fit(X, y, tfidf, LogisticRegression())"
   ]
  },
  {
   "cell_type": "code",
   "execution_count": 9,
   "metadata": {},
   "outputs": [
    {
     "name": "stdout",
     "output_type": "stream",
     "text": [
      "# features: 3933179\n",
      "# train records: 394360\n",
      "# test records: 131454\n",
      "Model Accuracy: 0.9454714196601093\n",
      "\n",
      "-Top 20 positive-\n",
      "Word  Coefficient\n",
      "           great    21.054577\n",
      "            best    17.831601\n",
      "       delicious    17.012872\n",
      "         perfect    14.624623\n",
      "           loves    13.611160\n",
      "            love    13.272387\n",
      "       excellent    13.144334\n",
      "            good    11.418326\n",
      "       wonderful    11.321080\n",
      "            nice    10.811514\n",
      "        favorite    10.594919\n",
      "         amazing     9.691426\n",
      "         awesome     9.371318\n",
      "            easy     9.143947\n",
      "         pleased     8.947594\n",
      "           happy     8.906614\n",
      "          smooth     8.715677\n",
      "           yummy     8.592553\n",
      "          highly     8.466686\n",
      "highly recommend     8.423070\n",
      "\n",
      "-Top 20 negative-\n",
      "Word  Coefficient\n",
      "         maybe    -7.807009\n",
      "        hoping    -8.129029\n",
      "     tasteless    -8.250228\n",
      "         money    -8.319548\n",
      "         worse    -8.353005\n",
      "       thought    -8.564717\n",
      "    disgusting    -8.764723\n",
      "         bland    -9.145294\n",
      "         threw    -9.304977\n",
      "         stale    -9.893504\n",
      "          weak    -9.963747\n",
      "        return   -10.144197\n",
      "disappointment   -10.343525\n",
      " unfortunately   -10.835954\n",
      "      horrible   -11.312277\n",
      "         awful   -11.814174\n",
      "      terrible   -13.034125\n",
      " disappointing   -13.444856\n",
      "  disappointed   -14.709057\n",
      "         worst   -15.211034\n"
     ]
    }
   ],
   "source": [
    "tfidf_n = TfidfVectorizer(ngram_range=(1,2),stop_words = 'english')\n",
    "text_fit(X, y, tfidf_n, LogisticRegression())"
   ]
  },
  {
   "cell_type": "code",
   "execution_count": null,
   "metadata": {},
   "outputs": [],
   "source": []
  }
 ],
 "metadata": {
  "kernelspec": {
   "display_name": "Python 3",
   "language": "python",
   "name": "python3"
  },
  "language_info": {
   "codemirror_mode": {
    "name": "ipython",
    "version": 3
   },
   "file_extension": ".py",
   "mimetype": "text/x-python",
   "name": "python",
   "nbconvert_exporter": "python",
   "pygments_lexer": "ipython3",
   "version": "3.7.1"
  }
 },
 "nbformat": 4,
 "nbformat_minor": 2
}
